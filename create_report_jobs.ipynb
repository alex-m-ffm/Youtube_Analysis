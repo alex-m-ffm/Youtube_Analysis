{
 "cells": [
  {
   "cell_type": "code",
   "execution_count": 1,
   "metadata": {},
   "outputs": [
    {
     "name": "stdout",
     "output_type": "stream",
     "text": [
      "The secret you specified already exists in the defined region. I will retrieve the credentials from there.\n"
     ]
    }
   ],
   "source": [
    "import boto3\n",
    "from google.auth.transport.requests import Request\n",
    "from googleapiclient.discovery import build\n",
    "from google.oauth2.credentials import Credentials\n",
    "import json\n",
    "\n",
    "#define the AWS region and the name of the secret to be created in AWS Secrets Manager\n",
    "region_name = input(\"Please enter your AWS region:\")\n",
    "\n",
    "\n",
    "client = boto3.client('ssm', region_name=region_name)\n",
    "# Retrieve all parameters\n",
    "response = client.describe_parameters()\n",
    "parameters = response.get('Parameters', [])\n",
    "parameter_names = [param['Name'] for param in parameters]\n",
    "\n",
    "secret_name = input(\"Please enter the desired secret name for storage in AWS Systems Manager Parameter Store:\")\n",
    "\n",
    "if secret_name in parameter_names:\n",
    "    print(\"The secret you specified already exists in the defined region. I will retrieve the credentials from there.\")\n",
    "\n",
    "    # Retrieve the secret value\n",
    "    response = client.get_parameter(Name=secret_name, WithDecryption=True)\n",
    "    parameter_value = response['Parameter']['Value']\n",
    "    credentials_dict = json.loads(parameter_value)\n",
    "else:\n",
    "    print(f\"I will now create the new secret {secret_name}.\")\n",
    "    client.put_parameter(\n",
    "        Name=secret_name,\n",
    "        Value=\"\",\n",
    "        Type=\"SecureString\",\n",
    "        Overwrite=True\n",
    "    )"
   ]
  },
  {
   "cell_type": "code",
   "execution_count": 2,
   "metadata": {},
   "outputs": [],
   "source": [
    "credentials = None\n",
    "\n",
    "# Check if the credentials are available in the Secrets Manager\n",
    "if 'token' in credentials_dict and 'refresh_token' in credentials_dict:\n",
    "    credentials = Credentials.from_authorized_user_info(credentials_dict)\n",
    "\n",
    "    # Check if the credentials are expired\n",
    "    if credentials.expired:\n",
    "        # Refresh the credentials\n",
    "        credentials.refresh(Request())\n",
    "\n",
    "        client = boto3.client('ssm', region_name=region_name)\n",
    "        client.put_parameter(\n",
    "            Name=secret_name,\n",
    "            Value=credentials.to_json(),\n",
    "            Type=\"SecureString\",\n",
    "            Overwrite=True\n",
    "            )\n",
    "else: \n",
    "    print(\"Please store your YouTube API OAuth credentials in AWS Systems Manager Parameter Store first.\")\n",
    "\n",
    "\n",
    "\n",
    "# Test if you can establish a connection to the YouTube API\n",
    "youtubeReporting = build('youtubereporting', 'v1', credentials=credentials)"
   ]
  },
  {
   "cell_type": "markdown",
   "metadata": {},
   "source": [
    "Now we will first check on the YouTube API what types of reports can be generated."
   ]
  },
  {
   "cell_type": "code",
   "execution_count": 3,
   "metadata": {},
   "outputs": [],
   "source": [
    "report_types = youtubeReporting.reportTypes().list().execute()"
   ]
  },
  {
   "cell_type": "code",
   "execution_count": 4,
   "metadata": {},
   "outputs": [
    {
     "data": {
      "text/plain": [
       "{'reportTypes': [{'id': 'channel_annotations_a1', 'name': 'Annotations'},\n",
       "  {'id': 'channel_basic_a2', 'name': 'User activity'},\n",
       "  {'id': 'channel_cards_a1', 'name': 'Cards'},\n",
       "  {'id': 'channel_combined_a2', 'name': 'Combined'},\n",
       "  {'id': 'channel_demographics_a1', 'name': 'Demographics'},\n",
       "  {'id': 'channel_device_os_a2', 'name': 'Device and OS'},\n",
       "  {'id': 'channel_end_screens_a1', 'name': 'End screens'},\n",
       "  {'id': 'channel_playback_location_a2', 'name': 'Playback locations'},\n",
       "  {'id': 'channel_province_a2', 'name': 'Province'},\n",
       "  {'id': 'channel_sharing_service_a1', 'name': 'Sharing service'},\n",
       "  {'id': 'channel_subtitles_a2', 'name': 'Subtitles'},\n",
       "  {'id': 'channel_traffic_source_a2', 'name': 'Traffic sources'},\n",
       "  {'id': 'playlist_basic_a1', 'name': 'Playlist user activity'},\n",
       "  {'id': 'playlist_combined_a1', 'name': 'Playlist combined'},\n",
       "  {'id': 'playlist_device_os_a1', 'name': 'Playlist device and OS'},\n",
       "  {'id': 'playlist_playback_location_a1',\n",
       "   'name': 'Playlist playback locations'},\n",
       "  {'id': 'playlist_province_a1', 'name': 'Playlist province'},\n",
       "  {'id': 'playlist_traffic_source_a1', 'name': 'Playlist traffic sources'}]}"
      ]
     },
     "execution_count": 4,
     "metadata": {},
     "output_type": "execute_result"
    }
   ],
   "source": [
    "report_types"
   ]
  },
  {
   "cell_type": "markdown",
   "metadata": {},
   "source": [
    "Now let's check what report jobs have already been scheduled."
   ]
  },
  {
   "cell_type": "code",
   "execution_count": 5,
   "metadata": {},
   "outputs": [],
   "source": [
    "jobs = youtubeReporting.jobs().list().execute()"
   ]
  },
  {
   "cell_type": "code",
   "execution_count": null,
   "metadata": {},
   "outputs": [],
   "source": [
    "jobs"
   ]
  },
  {
   "cell_type": "markdown",
   "metadata": {},
   "source": [
    "If this list is empty for you then can now create these jobs. You need to provide the necessary ID from the reportTypes API call and define a name. Again, in case you have multiple YouTube channels for which you want to get data then you need to do this task multiple times."
   ]
  },
  {
   "cell_type": "code",
   "execution_count": null,
   "metadata": {},
   "outputs": [],
   "source": [
    "report_type = 'channel_sharing_service_a1'\n",
    "report_name = report_type + '_tutorial'\n",
    "\n",
    "youtubeReporting.jobs().create(\n",
    "    body=dict(reportTypeId=report_type,\n",
    "              name=report_name)\n",
    "              ).execute()"
   ]
  },
  {
   "cell_type": "markdown",
   "metadata": {},
   "source": [
    "You can now check again if this was registered by the system."
   ]
  },
  {
   "cell_type": "code",
   "execution_count": null,
   "metadata": {},
   "outputs": [],
   "source": [
    "jobs = youtubeReporting.jobs().list().execute()\n",
    "jobs"
   ]
  },
  {
   "cell_type": "markdown",
   "metadata": {},
   "source": [
    "Final note: my implementation of the Lambda function was based on the four report types I found most interesting. In these cases only the conversion of decimal columns was needed. In case you want some other reports you should also download some report files locally first and analyse the data to see what adjustments might be needed in the function code."
   ]
  }
 ],
 "metadata": {
  "kernelspec": {
   "display_name": "Python 3",
   "language": "python",
   "name": "python3"
  },
  "language_info": {
   "codemirror_mode": {
    "name": "ipython",
    "version": 3
   },
   "file_extension": ".py",
   "mimetype": "text/x-python",
   "name": "python",
   "nbconvert_exporter": "python",
   "pygments_lexer": "ipython3",
   "version": "3.12.2"
  }
 },
 "nbformat": 4,
 "nbformat_minor": 2
}
